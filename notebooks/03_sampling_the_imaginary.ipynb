{
 "cells": [
  {
   "cell_type": "markdown",
   "metadata": {},
   "source": [
    "# 3 — Sampling the Imaginary"
   ]
  },
  {
   "cell_type": "markdown",
   "metadata": {},
   "source": [
    "## Vampire Blood-Test Problem"
   ]
  },
  {
   "cell_type": "code",
   "execution_count": 2,
   "metadata": {},
   "outputs": [
    {
     "name": "stdout",
     "output_type": "stream",
     "text": [
      "0.087\n"
     ]
    }
   ],
   "source": [
    "Pr_positive_vampire = .95\n",
    "Pr_positive_mortal = .01\n",
    "Pr_vampire = .001\n",
    "\n",
    "# Pr_positive is just the average positive value\n",
    "Pr_positive = (Pr_positive_vampire * Pr_vampire) + (Pr_positive_mortal * (1 - Pr_vampire))\n",
    "\n",
    "Pr_vampire_positive = round((Pr_positive_vampire * Pr_vampire) / Pr_positive, 3)\n",
    "print(Pr_vampire_positive)"
   ]
  },
  {
   "cell_type": "code",
   "execution_count": null,
   "metadata": {},
   "outputs": [],
   "source": []
  }
 ],
 "metadata": {
  "kernelspec": {
   "display_name": "statistical-rethinking-a-bayesian-course-9DgBdeIh-py3.12",
   "language": "python",
   "name": "python3"
  },
  "language_info": {
   "codemirror_mode": {
    "name": "ipython",
    "version": 3
   },
   "file_extension": ".py",
   "mimetype": "text/x-python",
   "name": "python",
   "nbconvert_exporter": "python",
   "pygments_lexer": "ipython3",
   "version": "3.12.7"
  }
 },
 "nbformat": 4,
 "nbformat_minor": 2
}
