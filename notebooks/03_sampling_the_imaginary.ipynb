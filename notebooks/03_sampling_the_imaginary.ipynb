{
 "cells": [
  {
   "cell_type": "markdown",
   "metadata": {},
   "source": [
    "# 3 — Sampling the Imaginary"
   ]
  },
  {
   "cell_type": "markdown",
   "metadata": {},
   "source": [
    "## Vampire Blood-Test Problem"
   ]
  },
  {
   "cell_type": "code",
   "execution_count": 3,
   "metadata": {},
   "outputs": [],
   "source": [
    "import numpy as np\n",
    "import scipy.stats as stats"
   ]
  },
  {
   "cell_type": "code",
   "execution_count": 1,
   "metadata": {},
   "outputs": [
    {
     "name": "stdout",
     "output_type": "stream",
     "text": [
      "0.087\n"
     ]
    }
   ],
   "source": [
    "Pr_positive_vampire = .95\n",
    "Pr_positive_mortal = .01\n",
    "Pr_vampire = .001\n",
    "\n",
    "# Pr_positive is just the average positive value\n",
    "Pr_positive = (Pr_positive_vampire * Pr_vampire) + (Pr_positive_mortal * (1 - Pr_vampire))\n",
    "\n",
    "Pr_vampire_positive = round((Pr_positive_vampire * Pr_vampire) / Pr_positive, 3)\n",
    "print(Pr_vampire_positive)"
   ]
  },
  {
   "cell_type": "code",
   "execution_count": null,
   "metadata": {},
   "outputs": [],
   "source": [
    "# 3.1 Sampling from a grid-approximate posterior\n",
    "p_grid = np.linspace(0, 1, 1000)\n",
    "prob_p = np.ones(1000)\n",
    "prob_data = stats.binom.pmf(k=6, n=9, p=p_grid)\n",
    "posterior = prob_data * prob_p\n",
    "posterior /= posterior.sum() # Normalize the posterior"
   ]
  }
 ],
 "metadata": {
  "kernelspec": {
   "display_name": "statistical-rethinking-a-bayesian-course-WrDa9PC2-py3.12",
   "language": "python",
   "name": "python3"
  },
  "language_info": {
   "codemirror_mode": {
    "name": "ipython",
    "version": 3
   },
   "file_extension": ".py",
   "mimetype": "text/x-python",
   "name": "python",
   "nbconvert_exporter": "python",
   "pygments_lexer": "ipython3",
   "version": "3.12.7"
  }
 },
 "nbformat": 4,
 "nbformat_minor": 2
}
